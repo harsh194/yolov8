{
 "cells": [
  {
   "cell_type": "code",
   "execution_count": 1,
   "metadata": {},
   "outputs": [],
   "source": [
    "import cv2\n",
    "import numpy as np\n",
    "from PIL import Image, ImageDraw, ImageFont\n",
    "from matplotlib import pyplot as plt\n",
    "import os\n",
    "from skimage import io, img_as_ubyte"
   ]
  },
  {
   "cell_type": "code",
   "execution_count": 2,
   "metadata": {},
   "outputs": [],
   "source": [
    "classes =  ['flat_ng', 'flat_ok', 'hollow_nut_ng', 'hollow_nut_ok', 'plate_nut_ng', 'plate_nut_ok']\n",
    "main_path = \"C:/Users/000501/Desktop/Python/work/thk gifu/train/\""
   ]
  },
  {
   "cell_type": "code",
   "execution_count": 5,
   "metadata": {},
   "outputs": [],
   "source": [
    "def generate_point(annotation_path = ''):\n",
    "    labels = []\n",
    "    points = []\n",
    "    with open(annotation_path, \"r\") as file:    \n",
    "        for line in file:\n",
    "            label, lis = line.split()[0], line.split()[1:]\n",
    "            labels.append(label)\n",
    "            lis = list(map(float, lis))\n",
    "            for i in range(len(lis)):\n",
    "                lis[i] = int(lis[i] * 640)\n",
    "            newlis = []\n",
    "            i = 0\n",
    "            while (i < len(lis)):\n",
    "                newlis.append((lis[i], lis[i+1]))\n",
    "                i+=2\n",
    "            points.append(newlis)\n",
    "    return labels, points"
   ]
  },
  {
   "cell_type": "code",
   "execution_count": 11,
   "metadata": {},
   "outputs": [
    {
     "name": "stdout",
     "output_type": "stream",
     "text": [
      "171\n"
     ]
    }
   ],
   "source": [
    "train_img_path = main_path + \"images\"\n",
    "train_labels_path = main_path + \"labels\"\n",
    "\n",
    "images_file_list = []\n",
    "labels_file_list = []\n",
    "\n",
    "for im in os.listdir(train_img_path):\n",
    "    images_file_list.append(os.path.join(train_img_path, im))\n",
    "    \n",
    "for l in os.listdir(train_labels_path):\n",
    "    labels_file_list.append(os.path.join(train_labels_path, l))\n",
    "    \n",
    "i = 0\n",
    "n = len(labels_file_list)\n",
    "class_length = len(classes)\n",
    "\n",
    "print(n)\n",
    "\n",
    "train_mask_path = main_path + \"train_masks/\"\n",
    "train_image_path = main_path + \"train_image/\"\n",
    "\n",
    "os.makedirs(train_mask_path, exist_ok = True)\n",
    "os.makedirs(train_image_path, exist_ok = True)\n",
    "\n",
    "for cls in classes:\n",
    "    class_mask_path = train_mask_path + cls\n",
    "    os.makedirs(class_mask_path, exist_ok= True)\n",
    "# n = 3\n"
   ]
  },
  {
   "cell_type": "code",
   "execution_count": null,
   "metadata": {},
   "outputs": [],
   "source": [
    "while i < n:\n",
    "    label_path = labels_file_list[i]\n",
    "    labels, points = generate_point(label_path)\n",
    "    len_labels = len(labels)\n",
    "    image_path = images_file_list[i]\n",
    "    \n",
    "    src = cv2.imread(image_path)\n",
    "    src = cv2.resize(src, (640, 640))\n",
    "    \n",
    "    for cl in range(class_length):\n",
    "        # print(cl)\n",
    "        new_mask_path = \"%s%s/image_%s.png\" %(train_mask_path, classes[cl],i) \n",
    "        \n",
    "        mask = np.zeros_like(src)\n",
    "        \n",
    "        for l, lab in enumerate(labels):\n",
    "            lab = int(lab)\n",
    "            if(cl == lab):\n",
    "                # print(f\"No - {i}\")\n",
    "                # print(f\"Points - {points[i]}\")\n",
    "                contours = np.array(points[l], dtype = np.int32)\n",
    "                cv2.drawContours(mask, [np.array(contours)], -1, (255, 255, 255), -1)\n",
    "                    \n",
    "        io.imsave(new_mask_path, mask)\n",
    "        \n",
    "        print(f\"mask path - {new_mask_path}\")\n",
    "            \n",
    "    new_image_path = \"%simage_%s.png\" %(train_image_path, i)       \n",
    "    print(f\"new image path - {new_image_path}\") \n",
    "    io.imsave(new_image_path, src)\n",
    "    \n",
    "    i = i+ 1"
   ]
  }
 ],
 "metadata": {
  "kernelspec": {
   "display_name": "Python 3",
   "language": "python",
   "name": "python3"
  },
  "language_info": {
   "codemirror_mode": {
    "name": "ipython",
    "version": 3
   },
   "file_extension": ".py",
   "mimetype": "text/x-python",
   "name": "python",
   "nbconvert_exporter": "python",
   "pygments_lexer": "ipython3",
   "version": "3.9.0"
  }
 },
 "nbformat": 4,
 "nbformat_minor": 2
}
